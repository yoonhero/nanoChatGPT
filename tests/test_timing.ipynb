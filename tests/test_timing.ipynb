{
 "cells": [
  {
   "cell_type": "code",
   "execution_count": 22,
   "metadata": {},
   "outputs": [],
   "source": [
    "import sys\n",
    "import os\n",
    "sys.path.append(os.path.dirname(os.path.abspath(os.getcwd())))\n",
    " \n",
    "import utils\n",
    "from dataset import CoolDataset\n",
    "import unittest\n",
    "from transformers import AutoTokenizer, BatchEncoding\n",
    "import torch"
   ]
  },
  {
   "cell_type": "code",
   "execution_count": 29,
   "metadata": {},
   "outputs": [],
   "source": [
    "device = \"cuda\"\n",
    "block_size = 256\n",
    "EOS_TOKEN = \"[EOS]\"\n",
    "BOS_TOKEN = \"[BOS]\"\n",
    "\n",
    "# KoGPT Tokenizer\n",
    "BOS_TOKEN = \"[BOS]\"\n",
    "EOS_TOKEN = \"[EOS]\"\n",
    "UNK_TOKEN = \"[UNK]\"\n",
    "PAD_TOKEN = \"[PAD]\"\n",
    "MASK_TOKEN = \"[MASK]\"\n",
    "\n",
    "tokenizer = AutoTokenizer.from_pretrained('kakaobrain/kogpt', revision='KoGPT6B-ryan1.5b-float16', bos_token=BOS_TOKEN, eos_token=EOS_TOKEN, unk_token=UNK_TOKEN, pad_token=PAD_TOKEN, mask_token=MASK_TOKEN, padding_side=\"right\", truncation_side=\"right\", model_max_length=256)"
   ]
  },
  {
   "cell_type": "code",
   "execution_count": 39,
   "metadata": {},
   "outputs": [
    {
     "data": {
      "text/plain": [
       "[31226,\n",
       " 1435,\n",
       " 169,\n",
       " 7996,\n",
       " 169,\n",
       " 182,\n",
       " 34016,\n",
       " 683,\n",
       " 10029,\n",
       " 118,\n",
       " 37427,\n",
       " 9755,\n",
       " 115,\n",
       " 2227,\n",
       " 2459,\n",
       " 54626,\n",
       " 42941,\n",
       " 683,\n",
       " 719,\n",
       " 13876,\n",
       " 1264,\n",
       " 1533,\n",
       " 181,\n",
       " 4598,\n",
       " 115,\n",
       " 1956,\n",
       " 1026,\n",
       " 1302,\n",
       " 21072,\n",
       " 189,\n",
       " 1533,\n",
       " 1026,\n",
       " 10743,\n",
       " 5914,\n",
       " 737,\n",
       " 21817,\n",
       " 120,\n",
       " 23563,\n",
       " 1026,\n",
       " 1533,\n",
       " 29258,\n",
       " 36185,\n",
       " 2329,\n",
       " 50976,\n",
       " 1084,\n",
       " 2769,\n",
       " 3773,\n",
       " 169,\n",
       " 46503,\n",
       " 188,\n",
       " 16471,\n",
       " 114,\n",
       " 21245,\n",
       " 6247,\n",
       " 8058,\n",
       " 2952,\n",
       " 19376,\n",
       " 1533,\n",
       " 1026,\n",
       " 29723,\n",
       " 2537,\n",
       " 16781,\n",
       " 1956,\n",
       " 1026,\n",
       " 48351,\n",
       " 21817,\n",
       " 1302,\n",
       " 34184,\n",
       " 169,\n",
       " 31226,\n",
       " 1435,\n",
       " 169,\n",
       " 719,\n",
       " 21072,\n",
       " 169,\n",
       " 189,\n",
       " 56852,\n",
       " 683,\n",
       " 3416,\n",
       " 175,\n",
       " 35401,\n",
       " 36668,\n",
       " 21437,\n",
       " 10290,\n",
       " 29723,\n",
       " 2329,\n",
       " 41434,\n",
       " 118,\n",
       " 8058,\n",
       " 12725,\n",
       " 30777,\n",
       " 1533,\n",
       " 2036,\n",
       " 5641,\n",
       " 163,\n",
       " 169,\n",
       " 150,\n",
       " 3868,\n",
       " 20581,\n",
       " 169,\n",
       " 4228,\n",
       " 9311,\n",
       " 59137,\n",
       " 683,\n",
       " 10029,\n",
       " 114,\n",
       " 123,\n",
       " 175,\n",
       " 1932,\n",
       " 115,\n",
       " 36668]"
      ]
     },
     "execution_count": 39,
     "metadata": {},
     "output_type": "execute_result"
    }
   ],
   "source": [
    "tokenizer.convert_tokens_to_ids(tokenizer.tokenize(\"model_max_length (int, optional) — The maximum length (in number of tokens) for the inputs to the transformer model. When the tokenizer is loaded with from_pretrained(), this will be set to the value stored for the associated model in max_model_input_sizes (see above). If no value is provided, will default to VERY_LARGE_INTEGER (int(1e30)).\"))"
   ]
  },
  {
   "cell_type": "code",
   "execution_count": 11,
   "metadata": {},
   "outputs": [
    {
     "data": {
      "text/plain": [
       "True"
      ]
     },
     "execution_count": 11,
     "metadata": {},
     "output_type": "execute_result"
    }
   ],
   "source": [
    "tokenizer.is_fast"
   ]
  },
  {
   "cell_type": "code",
   "execution_count": null,
   "metadata": {},
   "outputs": [],
   "source": []
  },
  {
   "cell_type": "code",
   "execution_count": null,
   "metadata": {},
   "outputs": [],
   "source": []
  },
  {
   "cell_type": "code",
   "execution_count": null,
   "metadata": {},
   "outputs": [],
   "source": []
  },
  {
   "cell_type": "code",
   "execution_count": 41,
   "metadata": {},
   "outputs": [
    {
     "name": "stdout",
     "output_type": "stream",
     "text": [
      "         6300780 function calls (5950676 primitive calls) in 342.485 seconds\n",
      "\n",
      "   Ordered by: cumulative time\n",
      "\n",
      "   ncalls  tottime  percall  cumtime  percall filename:lineno(function)\n",
      "        1    0.045    0.045  342.479  342.479 /var/folders/pk/4stgl7rx1rd40xnz4plktxy00000gn/T/ipykernel_32327/3806884479.py:7(loading)\n",
      "        1    0.356    0.356  327.595  327.595 /Users/yoonseonghyeon/Desktop/deeplearning/nanoChatGPT/utils.py:94(gunzip_bytes_obj)\n",
      "        2    0.002    0.001  174.657   87.328 /Users/yoonseonghyeon/opt/anaconda3/envs/mlenv/lib/python3.10/gzip.py:296(read)\n",
      " 350106/2    7.319    0.000  174.655   87.327 {method 'read' of '_io.BufferedReader' objects}\n",
      "        2    0.966    0.483  170.877   85.438 /Users/yoonseonghyeon/opt/anaconda3/envs/mlenv/lib/python3.10/_compression.py:113(readall)\n",
      "        1  167.402  167.402  167.402  167.402 {method 'decode' of 'bytes' objects}\n",
      "        1    0.002    0.002  159.837  159.837 /Users/yoonseonghyeon/opt/anaconda3/envs/mlenv/lib/python3.10/gzip.py:552(decompress)\n",
      "   700074    2.708    0.000   85.075    0.000 /Users/yoonseonghyeon/opt/anaconda3/envs/mlenv/lib/python3.10/gzip.py:463(read)\n",
      "        2   84.696   42.348   84.696   42.348 {method 'join' of 'bytes' objects}\n",
      "   700072   67.528    0.000   67.528    0.000 {method 'decompress' of 'zlib.Decompress' objects}\n",
      "   700072    1.124    0.000    7.671    0.000 /Users/yoonseonghyeon/opt/anaconda3/envs/mlenv/lib/python3.10/gzip.py:514(_add_read_data)\n",
      "   700093    0.552    0.000    7.075    0.000 /Users/yoonseonghyeon/opt/anaconda3/envs/mlenv/lib/python3.10/gzip.py:86(read)\n",
      "   700076    6.420    0.000    6.420    0.000 {built-in method zlib.crc32}\n",
      "   349987    2.983    0.000    2.983    0.000 {method 'read' of '_io.BytesIO' objects}\n",
      "  1400152    0.220    0.000    0.220    0.000 {built-in method builtins.len}\n",
      "   700072    0.139    0.000    0.139    0.000 {method 'append' of 'list' objects}\n",
      "        2    0.003    0.002    0.012    0.006 {method '__exit__' of '_io._IOBase' objects}\n",
      "        2    0.004    0.002    0.009    0.004 /Users/yoonseonghyeon/opt/anaconda3/envs/mlenv/lib/python3.10/gzip.py:327(close)\n",
      "        6    0.007    0.001    0.007    0.001 /Users/yoonseonghyeon/opt/anaconda3/envs/mlenv/lib/python3.10/gzip.py:323(closed)\n",
      "        1    0.001    0.001    0.005    0.005 /Users/yoonseonghyeon/opt/anaconda3/envs/mlenv/lib/python3.10/gzip.py:25(open)\n",
      "        3    0.000    0.000    0.005    0.002 {method 'close' of '_io.BufferedReader' objects}\n",
      "        2    0.005    0.002    0.005    0.002 /Users/yoonseonghyeon/opt/anaconda3/envs/mlenv/lib/python3.10/_compression.py:59(close)\n",
      "        2    0.003    0.001    0.004    0.002 /Users/yoonseonghyeon/opt/anaconda3/envs/mlenv/lib/python3.10/gzip.py:134(__init__)\n",
      "        4    0.000    0.000    0.003    0.001 /Users/yoonseonghyeon/opt/anaconda3/envs/mlenv/lib/python3.10/gzip.py:430(_read_gzip_header)\n",
      "        1    0.001    0.001    0.001    0.001 {built-in method io.open}\n",
      "        2    0.000    0.000    0.000    0.000 /Users/yoonseonghyeon/opt/anaconda3/envs/mlenv/lib/python3.10/gzip.py:403(__init__)\n",
      "        2    0.000    0.000    0.000    0.000 /Users/yoonseonghyeon/opt/anaconda3/envs/mlenv/lib/python3.10/_compression.py:39(__init__)\n",
      "        4    0.000    0.000    0.000    0.000 {built-in method _struct.unpack}\n",
      "        2    0.000    0.000    0.000    0.000 /Users/yoonseonghyeon/opt/anaconda3/envs/mlenv/lib/python3.10/gzip.py:80(__init__)\n",
      "        4    0.000    0.000    0.000    0.000 /Users/yoonseonghyeon/opt/anaconda3/envs/mlenv/lib/python3.10/gzip.py:410(_init_read)\n",
      "        4    0.000    0.000    0.000    0.000 {built-in method zlib.decompressobj}\n",
      "        2    0.000    0.000    0.000    0.000 /Users/yoonseonghyeon/opt/anaconda3/envs/mlenv/lib/python3.10/gzip.py:518(_read_eof)\n",
      "        4    0.000    0.000    0.000    0.000 /Users/yoonseonghyeon/opt/anaconda3/envs/mlenv/lib/python3.10/gzip.py:414(_read_exact)\n",
      "        2    0.000    0.000    0.000    0.000 /Users/yoonseonghyeon/opt/anaconda3/envs/mlenv/lib/python3.10/gzip.py:99(prepend)\n",
      "        2    0.000    0.000    0.000    0.000 {function DecompressReader.close at 0x7fa4aeab2ef0}\n",
      "        2    0.000    0.000    0.000    0.000 {method 'startswith' of 'str' objects}\n",
      "        2    0.000    0.000    0.000    0.000 /Users/yoonseonghyeon/opt/anaconda3/envs/mlenv/lib/python3.10/_compression.py:12(_check_not_closed)\n",
      "        1    0.000    0.000    0.000    0.000 {method 'disable' of '_lsprof.Profiler' objects}\n",
      "        2    0.000    0.000    0.000    0.000 {built-in method builtins.getattr}\n",
      "        1    0.000    0.000    0.000    0.000 {method 'replace' of 'str' objects}\n",
      "        2    0.000    0.000    0.000    0.000 {built-in method builtins.isinstance}\n",
      "        2    0.000    0.000    0.000    0.000 /Users/yoonseonghyeon/opt/anaconda3/envs/mlenv/lib/python3.10/_compression.py:160(tell)\n",
      "        1    0.000    0.000    0.000    0.000 {built-in method posix.fspath}\n",
      "        2    0.000    0.000    0.000    0.000 /Users/yoonseonghyeon/opt/anaconda3/envs/mlenv/lib/python3.10/_compression.py:36(readable)\n",
      "\n",
      "\n",
      "\n",
      "         6 function calls in 232.802 seconds\n",
      "\n",
      "   Ordered by: cumulative time\n",
      "\n",
      "   ncalls  tottime  percall  cumtime  percall filename:lineno(function)\n",
      "        1    0.022    0.022  232.802  232.802 /var/folders/pk/4stgl7rx1rd40xnz4plktxy00000gn/T/ipykernel_32327/3806884479.py:14(write)\n",
      "        1  232.748  232.748  232.748  232.748 {method 'write' of '_io.TextIOWrapper' objects}\n",
      "        1    0.013    0.013    0.025    0.025 {built-in method io.open}\n",
      "        1    0.012    0.012    0.012    0.012 /Users/yoonseonghyeon/opt/anaconda3/envs/mlenv/lib/python3.10/codecs.py:186(__init__)\n",
      "        1    0.007    0.007    0.007    0.007 {method '__exit__' of '_io._IOBase' objects}\n",
      "        1    0.000    0.000    0.000    0.000 {method 'disable' of '_lsprof.Profiler' objects}\n",
      "\n",
      "\n",
      "\n"
     ]
    }
   ],
   "source": [
    "from multiprocessing import Pool\n",
    "import gzip\n",
    "\n",
    "pool_size = 4\n",
    "texts = \"\"\n",
    "\n",
    "@utils.profile\n",
    "def loading():\n",
    "    global texts\n",
    "    with gzip.open(\"../dataset/corpus.txt.gz\", 'rb') as f:\n",
    "        zipeed_texts = f.read()\n",
    "    texts = utils.gunzip_bytes_obj(zipeed_texts)\n",
    "\n",
    "@utils.profile\n",
    "def write():\n",
    "    with open(\"../tmp/corpus.txt\", \"w\") as f:\n",
    "        f.write(texts)\n",
    "\n",
    "loading()\n",
    "write()"
   ]
  },
  {
   "cell_type": "code",
   "execution_count": 43,
   "metadata": {},
   "outputs": [
    {
     "name": "stdout",
     "output_type": "stream",
     "text": [
      "도널드 트럼프 미 대통령은 오는 5월 예루살렘에 새 미 대사관이 문을 열 때 이스라엘을 방문할 수 있을 것이라고 5일 말했다.트럼프 대통령은 지난해 이스라엘 주재 미 대사관을 텔아비브에서 예루살렘으로 이전할 것이라고 발표해 동맹국들과 아랍 세계를 당혹하게 하고 분노하게 만들었다.예루살렘의 새 미 대사관은 오는 5월 문을 열며 트럼프 대통령은 '가능하면' 자신이 미 축하사절단을 이끌고 이스라엘을 방문하겠다고 이날 말했다.새 미 대사관의 테이프 커팅은 이스라엘의 독립 70주년에 맞춰 이뤄질 계획이다.트럼프는 이날 백악관 오벌오피스에서 방미 중인 베냐민 네타냐후 이스라엘 총리와 만난 자리에서 이같이 밝혔다.그는 또 미 대사관을 예루살렘으로 옮기겠다는 미국의 결정에 많은 나라들이 고마워 하고 있다고 말했다.\n",
      "\n",
      "         45 function calls in 0.006 seconds\n",
      "\n",
      "   Ordered by: cumulative time\n",
      "\n",
      "   ncalls  tottime  percall  cumtime  percall filename:lineno(function)\n",
      "        1    0.001    0.001    0.006    0.006 /var/folders/pk/4stgl7rx1rd40xnz4plktxy00000gn/T/ipykernel_32327/3308765836.py:1(a)\n",
      "        1    0.000    0.000    0.002    0.002 {built-in method builtins.print}\n",
      "        2    0.000    0.000    0.002    0.001 /Users/yoonseonghyeon/opt/anaconda3/envs/mlenv/lib/python3.10/site-packages/ipykernel/iostream.py:502(write)\n",
      "        3    0.000    0.000    0.002    0.001 /Users/yoonseonghyeon/opt/anaconda3/envs/mlenv/lib/python3.10/site-packages/ipykernel/iostream.py:208(schedule)\n",
      "        1    0.002    0.002    0.002    0.002 {built-in method io.open}\n",
      "        3    0.002    0.001    0.002    0.001 /Users/yoonseonghyeon/opt/anaconda3/envs/mlenv/lib/python3.10/site-packages/zmq/sugar/socket.py:543(send)\n",
      "        2    0.000    0.000    0.000    0.000 /Users/yoonseonghyeon/opt/anaconda3/envs/mlenv/lib/python3.10/site-packages/ipykernel/iostream.py:439(_schedule_flush)\n",
      "        3    0.000    0.000    0.000    0.000 /Users/yoonseonghyeon/opt/anaconda3/envs/mlenv/lib/python3.10/threading.py:1162(is_alive)\n",
      "        1    0.000    0.000    0.000    0.000 /Users/yoonseonghyeon/opt/anaconda3/envs/mlenv/lib/python3.10/codecs.py:319(decode)\n",
      "        1    0.000    0.000    0.000    0.000 {built-in method _codecs.utf_8_decode}\n",
      "        1    0.000    0.000    0.000    0.000 {method '__exit__' of '_io._IOBase' objects}\n",
      "        3    0.000    0.000    0.000    0.000 /Users/yoonseonghyeon/opt/anaconda3/envs/mlenv/lib/python3.10/threading.py:1095(_wait_for_tstate_lock)\n",
      "        3    0.000    0.000    0.000    0.000 /Users/yoonseonghyeon/opt/anaconda3/envs/mlenv/lib/python3.10/site-packages/ipykernel/iostream.py:97(_event_pipe)\n",
      "        2    0.000    0.000    0.000    0.000 /Users/yoonseonghyeon/opt/anaconda3/envs/mlenv/lib/python3.10/site-packages/ipykernel/iostream.py:420(_is_master_process)\n",
      "        3    0.000    0.000    0.000    0.000 {method 'acquire' of '_thread.lock' objects}\n",
      "        1    0.000    0.000    0.000    0.000 /Users/yoonseonghyeon/opt/anaconda3/envs/mlenv/lib/python3.10/codecs.py:309(__init__)\n",
      "        1    0.000    0.000    0.000    0.000 /Users/yoonseonghyeon/opt/anaconda3/envs/mlenv/lib/python3.10/codecs.py:260(__init__)\n",
      "        3    0.000    0.000    0.000    0.000 /Users/yoonseonghyeon/opt/anaconda3/envs/mlenv/lib/python3.10/threading.py:546(is_set)\n",
      "        2    0.000    0.000    0.000    0.000 {built-in method builtins.len}\n",
      "        2    0.000    0.000    0.000    0.000 {built-in method posix.getpid}\n",
      "        3    0.000    0.000    0.000    0.000 {method 'append' of 'collections.deque' objects}\n",
      "        1    0.000    0.000    0.000    0.000 {method 'disable' of '_lsprof.Profiler' objects}\n",
      "        2    0.000    0.000    0.000    0.000 {built-in method builtins.isinstance}\n",
      "\n",
      "\n",
      "\n"
     ]
    }
   ],
   "source": [
    "@utils.profile\n",
    "def a():\n",
    "    with open(\"../tmp/corpus.txt\", \"r\", buffering=100000) as f:\n",
    "        for line in f:\n",
    "            print(line)\n",
    "            break\n",
    "    \n",
    "a()"
   ]
  },
  {
   "cell_type": "code",
   "execution_count": null,
   "metadata": {},
   "outputs": [],
   "source": [
    "CoolDataset(\"../tmp/corpus.txt\", tokenizer=)"
   ]
  },
  {
   "cell_type": "code",
   "execution_count": 9,
   "metadata": {},
   "outputs": [
    {
     "ename": "UnboundLocalError",
     "evalue": "local variable 'texts' referenced before assignment",
     "output_type": "error",
     "traceback": [
      "\u001b[0;31m---------------------------------------------------------------------------\u001b[0m",
      "\u001b[0;31mUnboundLocalError\u001b[0m                         Traceback (most recent call last)",
      "\u001b[1;32m/Users/yoonseonghyeon/Desktop/deeplearning/nanoChatGPT/tests/test_timing.ipynb Cell 4\u001b[0m in \u001b[0;36m<cell line: 8>\u001b[0;34m()\u001b[0m\n\u001b[1;32m      <a href='vscode-notebook-cell:/Users/yoonseonghyeon/Desktop/deeplearning/nanoChatGPT/tests/test_timing.ipynb#W3sZmlsZQ%3D%3D?line=4'>5</a>\u001b[0m     texts \u001b[39m=\u001b[39m texts\u001b[39m.\u001b[39msplit(\u001b[39m\"\u001b[39m\u001b[39m\\n\u001b[39;00m\u001b[39m\\n\u001b[39;00m\u001b[39m===\u001b[39m\u001b[39m\\n\u001b[39;00m\u001b[39m\\n\u001b[39;00m\u001b[39m\"\u001b[39m)\n\u001b[1;32m      <a href='vscode-notebook-cell:/Users/yoonseonghyeon/Desktop/deeplearning/nanoChatGPT/tests/test_timing.ipynb#W3sZmlsZQ%3D%3D?line=5'>6</a>\u001b[0m     num_subsets \u001b[39m=\u001b[39m \u001b[39mlen\u001b[39m(texts)\n\u001b[0;32m----> <a href='vscode-notebook-cell:/Users/yoonseonghyeon/Desktop/deeplearning/nanoChatGPT/tests/test_timing.ipynb#W3sZmlsZQ%3D%3D?line=7'>8</a>\u001b[0m split()\n",
      "File \u001b[0;32m~/Desktop/deeplearning/nanoChatGPT/utils.py:117\u001b[0m, in \u001b[0;36mprofile.<locals>.wrapper\u001b[0;34m(*args, **kwargs)\u001b[0m\n\u001b[1;32m    115\u001b[0m pr \u001b[39m=\u001b[39m cProfile\u001b[39m.\u001b[39mProfile()\n\u001b[1;32m    116\u001b[0m pr\u001b[39m.\u001b[39menable()\n\u001b[0;32m--> 117\u001b[0m retval \u001b[39m=\u001b[39m func(\u001b[39m*\u001b[39;49margs, \u001b[39m*\u001b[39;49m\u001b[39m*\u001b[39;49mkwargs)\n\u001b[1;32m    118\u001b[0m pr\u001b[39m.\u001b[39mdisable()\n\u001b[1;32m    119\u001b[0m s \u001b[39m=\u001b[39m io\u001b[39m.\u001b[39mStringIO()\n",
      "\u001b[1;32m/Users/yoonseonghyeon/Desktop/deeplearning/nanoChatGPT/tests/test_timing.ipynb Cell 4\u001b[0m in \u001b[0;36msplit\u001b[0;34m()\u001b[0m\n\u001b[1;32m      <a href='vscode-notebook-cell:/Users/yoonseonghyeon/Desktop/deeplearning/nanoChatGPT/tests/test_timing.ipynb#W3sZmlsZQ%3D%3D?line=2'>3</a>\u001b[0m \u001b[39m@utils\u001b[39m\u001b[39m.\u001b[39mprofile\n\u001b[1;32m      <a href='vscode-notebook-cell:/Users/yoonseonghyeon/Desktop/deeplearning/nanoChatGPT/tests/test_timing.ipynb#W3sZmlsZQ%3D%3D?line=3'>4</a>\u001b[0m \u001b[39mdef\u001b[39;00m \u001b[39msplit\u001b[39m():\n\u001b[0;32m----> <a href='vscode-notebook-cell:/Users/yoonseonghyeon/Desktop/deeplearning/nanoChatGPT/tests/test_timing.ipynb#W3sZmlsZQ%3D%3D?line=4'>5</a>\u001b[0m     texts \u001b[39m=\u001b[39m texts\u001b[39m.\u001b[39msplit(\u001b[39m\"\u001b[39m\u001b[39m\\n\u001b[39;00m\u001b[39m\\n\u001b[39;00m\u001b[39m===\u001b[39m\u001b[39m\\n\u001b[39;00m\u001b[39m\\n\u001b[39;00m\u001b[39m\"\u001b[39m)\n\u001b[1;32m      <a href='vscode-notebook-cell:/Users/yoonseonghyeon/Desktop/deeplearning/nanoChatGPT/tests/test_timing.ipynb#W3sZmlsZQ%3D%3D?line=5'>6</a>\u001b[0m     num_subsets \u001b[39m=\u001b[39m \u001b[39mlen\u001b[39m(texts)\n",
      "\u001b[0;31mUnboundLocalError\u001b[0m: local variable 'texts' referenced before assignment"
     ]
    }
   ],
   "source": [
    "@utils.profile\n",
    "def _split():\n",
    "    global texts\n",
    "    texts = texts.split(\"\\n\\n===\\n\\n\")\n",
    "\n",
    "_split()"
   ]
  },
  {
   "cell_type": "code",
   "execution_count": null,
   "metadata": {},
   "outputs": [],
   "source": [
    "import tqdm\n",
    "\n",
    "tokens = []\n",
    "# with Pool(pool_size) as p:\n",
    "pool = Pool(pool_size)\n",
    "# pool.map(process, texts, chunksize=5)\n",
    "tqdm.tqdm(pool.imap(process, texts, chunksize=10), total=num_subsets)\n",
    "pool.close()\n",
    "pool.join()\n",
    "save_cache(cache_dir)"
   ]
  }
 ],
 "metadata": {
  "kernelspec": {
   "display_name": "mlenv",
   "language": "python",
   "name": "python3"
  },
  "language_info": {
   "codemirror_mode": {
    "name": "ipython",
    "version": 3
   },
   "file_extension": ".py",
   "mimetype": "text/x-python",
   "name": "python",
   "nbconvert_exporter": "python",
   "pygments_lexer": "ipython3",
   "version": "3.10.4"
  },
  "orig_nbformat": 4,
  "vscode": {
   "interpreter": {
    "hash": "9d2639ffb07810fac2cedc92e08a41c0bae42ca785c48ccdb21dd6b5e60bd2fc"
   }
  }
 },
 "nbformat": 4,
 "nbformat_minor": 2
}
